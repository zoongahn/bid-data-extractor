{
 "cells": [
  {
   "cell_type": "code",
   "execution_count": 8,
   "metadata": {},
   "outputs": [
    {
     "data": {
      "text/plain": [
       "'c:\\\\Users\\\\GFCON\\\\Documents\\\\Project\\\\BidPrice\\\\jungi2\\\\analysis'"
      ]
     },
     "execution_count": 8,
     "metadata": {},
     "output_type": "execute_result"
    }
   ],
   "source": [
    "import os\n",
    "from analysis_utils import merge_csv_files\n",
    "os.getcwd()"
   ]
  },
  {
   "cell_type": "code",
   "execution_count": 45,
   "metadata": {},
   "outputs": [
    {
     "ename": "EmptyDataError",
     "evalue": "No columns to parse from file",
     "output_type": "error",
     "traceback": [
      "\u001b[1;31m---------------------------------------------------------------------------\u001b[0m",
      "\u001b[1;31mEmptyDataError\u001b[0m                            Traceback (most recent call last)",
      "Cell \u001b[1;32mIn[45], line 13\u001b[0m\n\u001b[0;32m     11\u001b[0m csv_paths \u001b[38;5;241m=\u001b[39m glob\u001b[38;5;241m.\u001b[39mglob(os\u001b[38;5;241m.\u001b[39mpath\u001b[38;5;241m.\u001b[39mjoin(csv_dir_path, \u001b[38;5;124m\"\u001b[39m\u001b[38;5;124m*.csv\u001b[39m\u001b[38;5;124m\"\u001b[39m))\n\u001b[0;32m     12\u001b[0m \u001b[38;5;66;03m# print # of csv files\u001b[39;00m\n\u001b[1;32m---> 13\u001b[0m df \u001b[38;5;241m=\u001b[39m \u001b[43mmerge_csv_files\u001b[49m\u001b[43m(\u001b[49m\u001b[43mcsv_dir_path\u001b[49m\u001b[43m)\u001b[49m\n\u001b[0;32m     15\u001b[0m df\u001b[38;5;241m.\u001b[39mhead(\u001b[38;5;241m20\u001b[39m)\n\u001b[0;32m     16\u001b[0m basic_info_df \u001b[38;5;241m=\u001b[39m pd\u001b[38;5;241m.\u001b[39mread_csv(basic_info_csv_path)\n",
      "File \u001b[1;32mc:\\Users\\GFCON\\Documents\\Project\\BidPrice\\jungi2\\analysis\\analysis_utils.py:300\u001b[0m, in \u001b[0;36mmerge_csv_files\u001b[1;34m(csv_dir_path)\u001b[0m\n\u001b[0;32m    298\u001b[0m df \u001b[38;5;241m=\u001b[39m pd\u001b[38;5;241m.\u001b[39mread_csv(csv_paths[\u001b[38;5;241m0\u001b[39m])\n\u001b[0;32m    299\u001b[0m \u001b[38;5;28;01mfor\u001b[39;00m i \u001b[38;5;129;01min\u001b[39;00m \u001b[38;5;28mrange\u001b[39m(\u001b[38;5;241m1\u001b[39m, \u001b[38;5;28mlen\u001b[39m(csv_paths)):\n\u001b[1;32m--> 300\u001b[0m     concat_df \u001b[38;5;241m=\u001b[39m \u001b[43mpd\u001b[49m\u001b[38;5;241;43m.\u001b[39;49m\u001b[43mread_csv\u001b[49m\u001b[43m(\u001b[49m\u001b[43mcsv_paths\u001b[49m\u001b[43m[\u001b[49m\u001b[43mi\u001b[49m\u001b[43m]\u001b[49m\u001b[43m)\u001b[49m\n\u001b[0;32m    301\u001b[0m     \u001b[38;5;28;01mif\u001b[39;00m \u001b[38;5;28mlen\u001b[39m(concat_df) \u001b[38;5;241m>\u001b[39m \u001b[38;5;241m100\u001b[39m:\n\u001b[0;32m    302\u001b[0m         count \u001b[38;5;241m+\u001b[39m\u001b[38;5;241m=\u001b[39m \u001b[38;5;241m1\u001b[39m\n",
      "File \u001b[1;32m~\\AppData\\Roaming\\Python\\Python313\\site-packages\\pandas\\io\\parsers\\readers.py:1026\u001b[0m, in \u001b[0;36mread_csv\u001b[1;34m(filepath_or_buffer, sep, delimiter, header, names, index_col, usecols, dtype, engine, converters, true_values, false_values, skipinitialspace, skiprows, skipfooter, nrows, na_values, keep_default_na, na_filter, verbose, skip_blank_lines, parse_dates, infer_datetime_format, keep_date_col, date_parser, date_format, dayfirst, cache_dates, iterator, chunksize, compression, thousands, decimal, lineterminator, quotechar, quoting, doublequote, escapechar, comment, encoding, encoding_errors, dialect, on_bad_lines, delim_whitespace, low_memory, memory_map, float_precision, storage_options, dtype_backend)\u001b[0m\n\u001b[0;32m   1013\u001b[0m kwds_defaults \u001b[38;5;241m=\u001b[39m _refine_defaults_read(\n\u001b[0;32m   1014\u001b[0m     dialect,\n\u001b[0;32m   1015\u001b[0m     delimiter,\n\u001b[1;32m   (...)\u001b[0m\n\u001b[0;32m   1022\u001b[0m     dtype_backend\u001b[38;5;241m=\u001b[39mdtype_backend,\n\u001b[0;32m   1023\u001b[0m )\n\u001b[0;32m   1024\u001b[0m kwds\u001b[38;5;241m.\u001b[39mupdate(kwds_defaults)\n\u001b[1;32m-> 1026\u001b[0m \u001b[38;5;28;01mreturn\u001b[39;00m \u001b[43m_read\u001b[49m\u001b[43m(\u001b[49m\u001b[43mfilepath_or_buffer\u001b[49m\u001b[43m,\u001b[49m\u001b[43m \u001b[49m\u001b[43mkwds\u001b[49m\u001b[43m)\u001b[49m\n",
      "File \u001b[1;32m~\\AppData\\Roaming\\Python\\Python313\\site-packages\\pandas\\io\\parsers\\readers.py:620\u001b[0m, in \u001b[0;36m_read\u001b[1;34m(filepath_or_buffer, kwds)\u001b[0m\n\u001b[0;32m    617\u001b[0m _validate_names(kwds\u001b[38;5;241m.\u001b[39mget(\u001b[38;5;124m\"\u001b[39m\u001b[38;5;124mnames\u001b[39m\u001b[38;5;124m\"\u001b[39m, \u001b[38;5;28;01mNone\u001b[39;00m))\n\u001b[0;32m    619\u001b[0m \u001b[38;5;66;03m# Create the parser.\u001b[39;00m\n\u001b[1;32m--> 620\u001b[0m parser \u001b[38;5;241m=\u001b[39m \u001b[43mTextFileReader\u001b[49m\u001b[43m(\u001b[49m\u001b[43mfilepath_or_buffer\u001b[49m\u001b[43m,\u001b[49m\u001b[43m \u001b[49m\u001b[38;5;241;43m*\u001b[39;49m\u001b[38;5;241;43m*\u001b[39;49m\u001b[43mkwds\u001b[49m\u001b[43m)\u001b[49m\n\u001b[0;32m    622\u001b[0m \u001b[38;5;28;01mif\u001b[39;00m chunksize \u001b[38;5;129;01mor\u001b[39;00m iterator:\n\u001b[0;32m    623\u001b[0m     \u001b[38;5;28;01mreturn\u001b[39;00m parser\n",
      "File \u001b[1;32m~\\AppData\\Roaming\\Python\\Python313\\site-packages\\pandas\\io\\parsers\\readers.py:1620\u001b[0m, in \u001b[0;36mTextFileReader.__init__\u001b[1;34m(self, f, engine, **kwds)\u001b[0m\n\u001b[0;32m   1617\u001b[0m     \u001b[38;5;28mself\u001b[39m\u001b[38;5;241m.\u001b[39moptions[\u001b[38;5;124m\"\u001b[39m\u001b[38;5;124mhas_index_names\u001b[39m\u001b[38;5;124m\"\u001b[39m] \u001b[38;5;241m=\u001b[39m kwds[\u001b[38;5;124m\"\u001b[39m\u001b[38;5;124mhas_index_names\u001b[39m\u001b[38;5;124m\"\u001b[39m]\n\u001b[0;32m   1619\u001b[0m \u001b[38;5;28mself\u001b[39m\u001b[38;5;241m.\u001b[39mhandles: IOHandles \u001b[38;5;241m|\u001b[39m \u001b[38;5;28;01mNone\u001b[39;00m \u001b[38;5;241m=\u001b[39m \u001b[38;5;28;01mNone\u001b[39;00m\n\u001b[1;32m-> 1620\u001b[0m \u001b[38;5;28mself\u001b[39m\u001b[38;5;241m.\u001b[39m_engine \u001b[38;5;241m=\u001b[39m \u001b[38;5;28;43mself\u001b[39;49m\u001b[38;5;241;43m.\u001b[39;49m\u001b[43m_make_engine\u001b[49m\u001b[43m(\u001b[49m\u001b[43mf\u001b[49m\u001b[43m,\u001b[49m\u001b[43m \u001b[49m\u001b[38;5;28;43mself\u001b[39;49m\u001b[38;5;241;43m.\u001b[39;49m\u001b[43mengine\u001b[49m\u001b[43m)\u001b[49m\n",
      "File \u001b[1;32m~\\AppData\\Roaming\\Python\\Python313\\site-packages\\pandas\\io\\parsers\\readers.py:1898\u001b[0m, in \u001b[0;36mTextFileReader._make_engine\u001b[1;34m(self, f, engine)\u001b[0m\n\u001b[0;32m   1895\u001b[0m     \u001b[38;5;28;01mraise\u001b[39;00m \u001b[38;5;167;01mValueError\u001b[39;00m(msg)\n\u001b[0;32m   1897\u001b[0m \u001b[38;5;28;01mtry\u001b[39;00m:\n\u001b[1;32m-> 1898\u001b[0m     \u001b[38;5;28;01mreturn\u001b[39;00m \u001b[43mmapping\u001b[49m\u001b[43m[\u001b[49m\u001b[43mengine\u001b[49m\u001b[43m]\u001b[49m\u001b[43m(\u001b[49m\u001b[43mf\u001b[49m\u001b[43m,\u001b[49m\u001b[43m \u001b[49m\u001b[38;5;241;43m*\u001b[39;49m\u001b[38;5;241;43m*\u001b[39;49m\u001b[38;5;28;43mself\u001b[39;49m\u001b[38;5;241;43m.\u001b[39;49m\u001b[43moptions\u001b[49m\u001b[43m)\u001b[49m\n\u001b[0;32m   1899\u001b[0m \u001b[38;5;28;01mexcept\u001b[39;00m \u001b[38;5;167;01mException\u001b[39;00m:\n\u001b[0;32m   1900\u001b[0m     \u001b[38;5;28;01mif\u001b[39;00m \u001b[38;5;28mself\u001b[39m\u001b[38;5;241m.\u001b[39mhandles \u001b[38;5;129;01mis\u001b[39;00m \u001b[38;5;129;01mnot\u001b[39;00m \u001b[38;5;28;01mNone\u001b[39;00m:\n",
      "File \u001b[1;32m~\\AppData\\Roaming\\Python\\Python313\\site-packages\\pandas\\io\\parsers\\c_parser_wrapper.py:93\u001b[0m, in \u001b[0;36mCParserWrapper.__init__\u001b[1;34m(self, src, **kwds)\u001b[0m\n\u001b[0;32m     90\u001b[0m \u001b[38;5;28;01mif\u001b[39;00m kwds[\u001b[38;5;124m\"\u001b[39m\u001b[38;5;124mdtype_backend\u001b[39m\u001b[38;5;124m\"\u001b[39m] \u001b[38;5;241m==\u001b[39m \u001b[38;5;124m\"\u001b[39m\u001b[38;5;124mpyarrow\u001b[39m\u001b[38;5;124m\"\u001b[39m:\n\u001b[0;32m     91\u001b[0m     \u001b[38;5;66;03m# Fail here loudly instead of in cython after reading\u001b[39;00m\n\u001b[0;32m     92\u001b[0m     import_optional_dependency(\u001b[38;5;124m\"\u001b[39m\u001b[38;5;124mpyarrow\u001b[39m\u001b[38;5;124m\"\u001b[39m)\n\u001b[1;32m---> 93\u001b[0m \u001b[38;5;28mself\u001b[39m\u001b[38;5;241m.\u001b[39m_reader \u001b[38;5;241m=\u001b[39m \u001b[43mparsers\u001b[49m\u001b[38;5;241;43m.\u001b[39;49m\u001b[43mTextReader\u001b[49m\u001b[43m(\u001b[49m\u001b[43msrc\u001b[49m\u001b[43m,\u001b[49m\u001b[43m \u001b[49m\u001b[38;5;241;43m*\u001b[39;49m\u001b[38;5;241;43m*\u001b[39;49m\u001b[43mkwds\u001b[49m\u001b[43m)\u001b[49m\n\u001b[0;32m     95\u001b[0m \u001b[38;5;28mself\u001b[39m\u001b[38;5;241m.\u001b[39munnamed_cols \u001b[38;5;241m=\u001b[39m \u001b[38;5;28mself\u001b[39m\u001b[38;5;241m.\u001b[39m_reader\u001b[38;5;241m.\u001b[39munnamed_cols\n\u001b[0;32m     97\u001b[0m \u001b[38;5;66;03m# error: Cannot determine type of 'names'\u001b[39;00m\n",
      "File \u001b[1;32mparsers.pyx:581\u001b[0m, in \u001b[0;36mpandas._libs.parsers.TextReader.__cinit__\u001b[1;34m()\u001b[0m\n",
      "\u001b[1;31mEmptyDataError\u001b[0m: No columns to parse from file"
     ]
    }
   ],
   "source": [
    "import glob\n",
    "import pandas as pd\n",
    "from analysis_utils import preprocess_datas\n",
    "for year in range(2021,2022):\n",
    "    percent_range = 3\n",
    "\n",
    "    basic_info_csv_path = f\"../output/공고_기본_정보/년도별/공고기본정보_{year}_서울_통신.csv\"\n",
    "    # /basic_info_csv_paths = glob.glob(os.path.join(basic_info_csv_dir_path, \"*.csv\"))\n",
    "\n",
    "    csv_dir_path = f\"../output/공고별_기업_투찰정보_년도별/공고별_기업_투찰정보_{year}\"\n",
    "    csv_paths = glob.glob(os.path.join(csv_dir_path, \"*.csv\"))\n",
    "    # print # of csv files\n",
    "    df = merge_csv_files(csv_dir_path)\n",
    "\n",
    "    df.head(20)\n",
    "    basic_info_df = pd.read_csv(basic_info_csv_path)\n",
    "    id_nums_basic_info = pd.unique(basic_info_df['공고번호'])\n",
    "    id_nums = glob.glob(os.path.join(csv_dir_path, \"*.csv\"))\n",
    "\n",
    "    # run preprocess_data\n",
    "    percent_range_str = f\"+{percent_range}% ~ -{percent_range}%\"\n",
    "    basic_info_df_modified= preprocess_datas(basic_info_df, csv_dir_path, percent_range=percent_range_str)\n",
    "    basic_info_df_modified.to_csv(f\"./{year}_Range{percent_range}.csv\", index=False)\n"
   ]
  },
  {
   "cell_type": "code",
   "execution_count": 34,
   "metadata": {},
   "outputs": [],
   "source": [
    "\n",
    "def process_and_merge(years=range(2015, 2025), ranges=[2, 3]):\n",
    "    \"\"\"\n",
    "    주어진 연도와 범위에 대해 데이터를 처리하고 병합합니다.\n",
    "    \"\"\"\n",
    "    # 범위별 처리\n",
    "    for percent_range in tqdm(ranges, desc=\"Processing ranges\"):\n",
    "        # 연도별 처리\n",
    "        for year in tqdm(years, desc=f\"Processing years for ±{percent_range}%\", leave=False):\n",
    "            basic_info_csv_path = f\"../output/공고_기본_정보/년도별/공고기본정보_{year}_서울_통신.csv\"\n",
    "            csv_dir_path = f\"../output/공고별_기업_투찰정보_년도별/공고별_기업_투찰정보_{year}\"\n",
    "            \n",
    "            if os.path.exists(basic_info_csv_path) and os.path.exists(csv_dir_path):\n",
    "                # 기존 코드 그대로 활용\n",
    "                basic_info_df = pd.read_csv(basic_info_csv_path)\n",
    "                percent_range_str = f\"+{percent_range}% ~ -{percent_range}%\"\n",
    "                basic_info_df_modified = preprocess_datas(basic_info_df, csv_dir_path, percent_range=percent_range_str)\n",
    "                basic_info_df_modified.to_csv(f\"./{year}_Range{percent_range}.csv\", index=False)\n",
    "\n",
    "        # 각 범위별로 파일들 병합\n",
    "        pattern = f\"./*_Range{percent_range}.csv\"\n",
    "        all_files = glob.glob(pattern)\n",
    "        if all_files:\n",
    "            combined_df = pd.concat([pd.read_csv(f) for f in all_files], ignore_index=True)\n",
    "            combined_df.to_csv(f\"./combined_Range{percent_range}.csv\", index=False)\n",
    "            print(f\"Combined file saved: combined_Range{percent_range}.csv\")"
   ]
  },
  {
   "cell_type": "code",
   "execution_count": 39,
   "metadata": {},
   "outputs": [],
   "source": [
    "from tqdm import tqdm\n"
   ]
  },
  {
   "cell_type": "code",
   "execution_count": 40,
   "metadata": {},
   "outputs": [
    {
     "name": "stderr",
     "output_type": "stream",
     "text": [
      "Processing ranges:   0%|          | 0/2 [00:00<?, ?it/s]"
     ]
    },
    {
     "name": "stdout",
     "output_type": "stream",
     "text": [
      "총 공고 수: 522\n",
      "찾은 CSV 파일 수: 520\n",
      "찾지 못한 파일 수: 1\n",
      "\n",
      "처음 5개 찾지 못한 공고번호:\n",
      "['5736']\n",
      "Error processing 5736: CSV 파일을 찾을 수 없음: 5736\n"
     ]
    },
    {
     "name": "stderr",
     "output_type": "stream",
     "text": []
    },
    {
     "name": "stdout",
     "output_type": "stream",
     "text": [
      "총 공고 수: 601\n",
      "찾은 CSV 파일 수: 600\n",
      "찾지 못한 파일 수: 1\n",
      "\n",
      "처음 5개 찾지 못한 공고번호:\n",
      "['2015-10231']\n",
      "Error processing 2015-10231: CSV 파일을 찾을 수 없음: 2015-10231\n"
     ]
    },
    {
     "name": "stderr",
     "output_type": "stream",
     "text": []
    },
    {
     "name": "stdout",
     "output_type": "stream",
     "text": [
      "총 공고 수: 646\n",
      "찾은 CSV 파일 수: 646\n",
      "찾지 못한 파일 수: 0\n"
     ]
    },
    {
     "name": "stderr",
     "output_type": "stream",
     "text": []
    },
    {
     "name": "stdout",
     "output_type": "stream",
     "text": [
      "총 공고 수: 749\n",
      "찾은 CSV 파일 수: 747\n",
      "찾지 못한 파일 수: 2\n",
      "\n",
      "처음 5개 찾지 못한 공고번호:\n",
      "['20171221304-00', '4061']\n",
      "Error processing 20171221304-00: CSV 파일을 찾을 수 없음: 20171221304-00\n",
      "Error processing 4061: CSV 파일을 찾을 수 없음: 4061\n"
     ]
    },
    {
     "name": "stderr",
     "output_type": "stream",
     "text": []
    },
    {
     "name": "stdout",
     "output_type": "stream",
     "text": [
      "총 공고 수: 753\n",
      "찾은 CSV 파일 수: 745\n",
      "찾지 못한 파일 수: 8\n",
      "\n",
      "처음 5개 찾지 못한 공고번호:\n",
      "['nan', '3546', 'nan', 'nan', 'nan']\n",
      "Error processing nan: CSV 파일을 찾을 수 없음: nan\n",
      "Error processing 3546: CSV 파일을 찾을 수 없음: 3546\n",
      "Error processing nan: CSV 파일을 찾을 수 없음: nan\n"
     ]
    },
    {
     "name": "stderr",
     "output_type": "stream",
     "text": []
    },
    {
     "name": "stdout",
     "output_type": "stream",
     "text": [
      "Error processing nan: CSV 파일을 찾을 수 없음: nan\n",
      "Error processing nan: CSV 파일을 찾을 수 없음: nan\n",
      "Error processing nan: CSV 파일을 찾을 수 없음: nan\n",
      "Error processing nan: CSV 파일을 찾을 수 없음: nan\n",
      "Error processing nan: CSV 파일을 찾을 수 없음: nan\n",
      "총 공고 수: 741\n",
      "찾은 CSV 파일 수: 739\n",
      "찾지 못한 파일 수: 2\n",
      "\n",
      "처음 5개 찾지 못한 공고번호:\n",
      "['9718', '6550']\n",
      "Error processing 9718: CSV 파일을 찾을 수 없음: 9718\n",
      "Error processing 6550: CSV 파일을 찾을 수 없음: 6550\n"
     ]
    },
    {
     "name": "stderr",
     "output_type": "stream",
     "text": []
    },
    {
     "name": "stdout",
     "output_type": "stream",
     "text": [
      "총 공고 수: 815\n",
      "찾은 CSV 파일 수: 813\n",
      "찾지 못한 파일 수: 2\n",
      "\n",
      "처음 5개 찾지 못한 공고번호:\n",
      "['20200617594-00', '9898']\n",
      "Error processing 20200617594-00: CSV 파일을 찾을 수 없음: 20200617594-00\n",
      "Error processing 9898: CSV 파일을 찾을 수 없음: 9898\n"
     ]
    },
    {
     "name": "stderr",
     "output_type": "stream",
     "text": []
    },
    {
     "name": "stdout",
     "output_type": "stream",
     "text": [
      "총 공고 수: 674\n",
      "찾은 CSV 파일 수: 670\n",
      "찾지 못한 파일 수: 4\n",
      "\n",
      "처음 5개 찾지 못한 공고번호:\n",
      "['N21S038000/0', 'N21S008000/0', '9852', '2143']\n",
      "Error processing N21S038000/0: CSV 파일을 찾을 수 없음: N21S038000/0\n",
      "Error processing N21S008000/0: CSV 파일을 찾을 수 없음: N21S008000/0\n",
      "Error processing 9852: CSV 파일을 찾을 수 없음: 9852\n",
      "Error processing 2143: CSV 파일을 찾을 수 없음: 2143\n"
     ]
    },
    {
     "name": "stderr",
     "output_type": "stream",
     "text": []
    },
    {
     "name": "stdout",
     "output_type": "stream",
     "text": [
      "총 공고 수: 590\n",
      "찾은 CSV 파일 수: 588\n",
      "찾지 못한 파일 수: 2\n",
      "\n",
      "처음 5개 찾지 못한 공고번호:\n",
      "['61', '1204']\n",
      "Error processing 61: CSV 파일을 찾을 수 없음: 61\n",
      "Error processing 1204: CSV 파일을 찾을 수 없음: 1204\n"
     ]
    },
    {
     "name": "stderr",
     "output_type": "stream",
     "text": []
    },
    {
     "name": "stdout",
     "output_type": "stream",
     "text": [
      "총 공고 수: 580\n",
      "찾은 CSV 파일 수: 579\n",
      "찾지 못한 파일 수: 1\n",
      "\n",
      "처음 5개 찾지 못한 공고번호:\n",
      "['1280']\n"
     ]
    },
    {
     "name": "stderr",
     "output_type": "stream",
     "text": []
    },
    {
     "name": "stdout",
     "output_type": "stream",
     "text": [
      "Error processing 1280: CSV 파일을 찾을 수 없음: 1280\n",
      "총 공고 수: 496\n",
      "찾은 CSV 파일 수: 469\n",
      "찾지 못한 파일 수: 27\n",
      "\n",
      "처음 5개 찾지 못한 공고번호:\n",
      "['20241232002-00', '2404135-00', '2404134-00', '20241231791-00', '20241235152-01']\n",
      "Error processing 20241232002-00: CSV 파일을 찾을 수 없음: 20241232002-00\n",
      "Error processing 2404135-00: CSV 파일을 찾을 수 없음: 2404135-00\n",
      "Error processing 2404134-00: CSV 파일을 찾을 수 없음: 2404134-00\n",
      "Error processing 20241231791-00: CSV 파일을 찾을 수 없음: 20241231791-00\n",
      "Error processing 20241235152-01: CSV 파일을 찾을 수 없음: 20241235152-01\n",
      "Error processing 20241222974-00: CSV 파일을 찾을 수 없음: 20241222974-00\n",
      "Error processing 20241227954-00: CSV 파일을 찾을 수 없음: 20241227954-00\n",
      "Error processing 20241227823-00: CSV 파일을 찾을 수 없음: 20241227823-00\n",
      "Error processing 20241229640-00: CSV 파일을 찾을 수 없음: 20241229640-00\n",
      "Error processing 20241228361-00: CSV 파일을 찾을 수 없음: 20241228361-00\n",
      "Error processing 20241226775-00: CSV 파일을 찾을 수 없음: 20241226775-00\n",
      "Error processing 20241223391-00: CSV 파일을 찾을 수 없음: 20241223391-00\n",
      "Error processing 20241222849-00: CSV 파일을 찾을 수 없음: 20241222849-00\n",
      "Error processing 20241221533-00: CSV 파일을 찾을 수 없음: 20241221533-00\n",
      "Error processing 20241220634-00: CSV 파일을 찾을 수 없음: 20241220634-00\n",
      "Error processing 20241220684-01: CSV 파일을 찾을 수 없음: 20241220684-01\n",
      "Error processing 20241225944-00: CSV 파일을 찾을 수 없음: 20241225944-00\n",
      "Error processing 20241222691-00: CSV 파일을 찾을 수 없음: 20241222691-00\n",
      "Error processing 20241217711-00: CSV 파일을 찾을 수 없음: 20241217711-00\n",
      "Error processing 60446: CSV 파일을 찾을 수 없음: 60446\n",
      "Error processing 2024-27030: CSV 파일을 찾을 수 없음: 2024-27030\n",
      "Error processing 20241215696-00: CSV 파일을 찾을 수 없음: 20241215696-00\n",
      "Error processing 20241219173-00: CSV 파일을 찾을 수 없음: 20241219173-00\n",
      "Error processing 20241216812-00: CSV 파일을 찾을 수 없음: 20241216812-00\n",
      "Error processing 20241216617-00: CSV 파일을 찾을 수 없음: 20241216617-00\n",
      "Error processing 2024-26602: CSV 파일을 찾을 수 없음: 2024-26602\n",
      "Error processing 7632: CSV 파일을 찾을 수 없음: 7632\n"
     ]
    },
    {
     "name": "stderr",
     "output_type": "stream",
     "text": [
      "Processing ranges:  50%|█████     | 1/2 [00:50<00:50, 50.07s/it]"
     ]
    },
    {
     "name": "stdout",
     "output_type": "stream",
     "text": [
      "Combined file saved: combined_Range2.csv\n"
     ]
    },
    {
     "name": "stderr",
     "output_type": "stream",
     "text": []
    },
    {
     "name": "stdout",
     "output_type": "stream",
     "text": [
      "총 공고 수: 522\n",
      "찾은 CSV 파일 수: 520\n",
      "찾지 못한 파일 수: 1\n",
      "\n",
      "처음 5개 찾지 못한 공고번호:\n",
      "['5736']\n",
      "Error processing 5736: CSV 파일을 찾을 수 없음: 5736\n"
     ]
    },
    {
     "name": "stderr",
     "output_type": "stream",
     "text": []
    },
    {
     "name": "stdout",
     "output_type": "stream",
     "text": [
      "총 공고 수: 601\n",
      "찾은 CSV 파일 수: 600\n",
      "찾지 못한 파일 수: 1\n",
      "\n",
      "처음 5개 찾지 못한 공고번호:\n",
      "['2015-10231']\n",
      "Error processing 2015-10231: CSV 파일을 찾을 수 없음: 2015-10231\n"
     ]
    },
    {
     "name": "stderr",
     "output_type": "stream",
     "text": []
    },
    {
     "name": "stdout",
     "output_type": "stream",
     "text": [
      "총 공고 수: 646\n",
      "찾은 CSV 파일 수: 646\n",
      "찾지 못한 파일 수: 0\n"
     ]
    },
    {
     "name": "stderr",
     "output_type": "stream",
     "text": []
    },
    {
     "name": "stdout",
     "output_type": "stream",
     "text": [
      "총 공고 수: 749\n",
      "찾은 CSV 파일 수: 747\n",
      "찾지 못한 파일 수: 2\n",
      "\n",
      "처음 5개 찾지 못한 공고번호:\n",
      "['20171221304-00', '4061']\n",
      "Error processing 20171221304-00: CSV 파일을 찾을 수 없음: 20171221304-00\n",
      "Error processing 4061: CSV 파일을 찾을 수 없음: 4061\n"
     ]
    },
    {
     "name": "stderr",
     "output_type": "stream",
     "text": []
    },
    {
     "name": "stdout",
     "output_type": "stream",
     "text": [
      "총 공고 수: 753\n",
      "찾은 CSV 파일 수: 745\n",
      "찾지 못한 파일 수: 8\n",
      "\n",
      "처음 5개 찾지 못한 공고번호:\n",
      "['nan', '3546', 'nan', 'nan', 'nan']\n",
      "Error processing nan: CSV 파일을 찾을 수 없음: nan\n",
      "Error processing 20180924655-00: 히스토그램이 모두 0임: 20180924655-00\n"
     ]
    },
    {
     "name": "stderr",
     "output_type": "stream",
     "text": []
    },
    {
     "name": "stdout",
     "output_type": "stream",
     "text": [
      "Error processing 3546: CSV 파일을 찾을 수 없음: 3546\n",
      "Error processing nan: CSV 파일을 찾을 수 없음: nan\n",
      "Error processing nan: CSV 파일을 찾을 수 없음: nan\n",
      "Error processing nan: CSV 파일을 찾을 수 없음: nan\n",
      "Error processing nan: CSV 파일을 찾을 수 없음: nan\n",
      "Error processing nan: CSV 파일을 찾을 수 없음: nan\n",
      "Error processing nan: CSV 파일을 찾을 수 없음: nan\n",
      "총 공고 수: 741\n",
      "찾은 CSV 파일 수: 739\n",
      "찾지 못한 파일 수: 2\n",
      "\n",
      "처음 5개 찾지 못한 공고번호:\n",
      "['9718', '6550']\n",
      "Error processing 20191037263-00: 히스토그램이 모두 0임: 20191037263-00\n",
      "Error processing 20191007817-00: 히스토그램이 모두 0임: 20191007817-00\n",
      "Error processing 9718: CSV 파일을 찾을 수 없음: 9718\n",
      "Error processing 6550: CSV 파일을 찾을 수 없음: 6550\n"
     ]
    },
    {
     "name": "stderr",
     "output_type": "stream",
     "text": []
    },
    {
     "name": "stdout",
     "output_type": "stream",
     "text": [
      "총 공고 수: 815\n",
      "찾은 CSV 파일 수: 813\n",
      "찾지 못한 파일 수: 2\n",
      "\n",
      "처음 5개 찾지 못한 공고번호:\n",
      "['20200617594-00', '9898']\n",
      "Error processing 20201020283-00: 히스토그램이 모두 0임: 20201020283-00\n",
      "Error processing 20200617594-00: CSV 파일을 찾을 수 없음: 20200617594-00\n",
      "Error processing 9898: CSV 파일을 찾을 수 없음: 9898\n"
     ]
    },
    {
     "name": "stderr",
     "output_type": "stream",
     "text": []
    },
    {
     "name": "stdout",
     "output_type": "stream",
     "text": [
      "총 공고 수: 674\n",
      "찾은 CSV 파일 수: 670\n",
      "찾지 못한 파일 수: 4\n",
      "\n",
      "처음 5개 찾지 못한 공고번호:\n",
      "['N21S038000/0', 'N21S008000/0', '9852', '2143']\n",
      "Error processing N21S038000/0: CSV 파일을 찾을 수 없음: N21S038000/0\n"
     ]
    },
    {
     "name": "stderr",
     "output_type": "stream",
     "text": [
      "Processing ranges:  50%|█████     | 1/2 [02:17<02:17, 137.66s/it]\n"
     ]
    },
    {
     "ename": "EmptyDataError",
     "evalue": "No columns to parse from file",
     "output_type": "error",
     "traceback": [
      "\u001b[1;31m---------------------------------------------------------------------------\u001b[0m",
      "\u001b[1;31mEmptyDataError\u001b[0m                            Traceback (most recent call last)",
      "Cell \u001b[1;32mIn[40], line 1\u001b[0m\n\u001b[1;32m----> 1\u001b[0m \u001b[43mprocess_and_merge\u001b[49m\u001b[43m(\u001b[49m\u001b[43myears\u001b[49m\u001b[43m \u001b[49m\u001b[38;5;241;43m=\u001b[39;49m\u001b[43m \u001b[49m\u001b[38;5;28;43mrange\u001b[39;49m\u001b[43m(\u001b[49m\u001b[38;5;241;43m2014\u001b[39;49m\u001b[43m,\u001b[49m\u001b[43m \u001b[49m\u001b[38;5;241;43m2025\u001b[39;49m\u001b[43m)\u001b[49m\u001b[43m,\u001b[49m\u001b[43m \u001b[49m\u001b[43mranges\u001b[49m\u001b[43m \u001b[49m\u001b[38;5;241;43m=\u001b[39;49m\u001b[43m \u001b[49m\u001b[43m[\u001b[49m\u001b[38;5;241;43m2\u001b[39;49m\u001b[43m,\u001b[49m\u001b[43m \u001b[49m\u001b[38;5;241;43m3\u001b[39;49m\u001b[43m]\u001b[49m\u001b[43m)\u001b[49m\n",
      "Cell \u001b[1;32mIn[34], line 16\u001b[0m, in \u001b[0;36mprocess_and_merge\u001b[1;34m(years, ranges)\u001b[0m\n\u001b[0;32m     14\u001b[0m         basic_info_df \u001b[38;5;241m=\u001b[39m pd\u001b[38;5;241m.\u001b[39mread_csv(basic_info_csv_path)\n\u001b[0;32m     15\u001b[0m         percent_range_str \u001b[38;5;241m=\u001b[39m \u001b[38;5;124mf\u001b[39m\u001b[38;5;124m\"\u001b[39m\u001b[38;5;124m+\u001b[39m\u001b[38;5;132;01m{\u001b[39;00mpercent_range\u001b[38;5;132;01m}\u001b[39;00m\u001b[38;5;124m% ~ -\u001b[39m\u001b[38;5;132;01m{\u001b[39;00mpercent_range\u001b[38;5;132;01m}\u001b[39;00m\u001b[38;5;124m%\u001b[39m\u001b[38;5;124m\"\u001b[39m\n\u001b[1;32m---> 16\u001b[0m         basic_info_df_modified \u001b[38;5;241m=\u001b[39m \u001b[43mpreprocess_datas\u001b[49m\u001b[43m(\u001b[49m\u001b[43mbasic_info_df\u001b[49m\u001b[43m,\u001b[49m\u001b[43m \u001b[49m\u001b[43mcsv_dir_path\u001b[49m\u001b[43m,\u001b[49m\u001b[43m \u001b[49m\u001b[43mpercent_range\u001b[49m\u001b[38;5;241;43m=\u001b[39;49m\u001b[43mpercent_range_str\u001b[49m\u001b[43m)\u001b[49m\n\u001b[0;32m     17\u001b[0m         basic_info_df_modified\u001b[38;5;241m.\u001b[39mto_csv(\u001b[38;5;124mf\u001b[39m\u001b[38;5;124m\"\u001b[39m\u001b[38;5;124m./\u001b[39m\u001b[38;5;132;01m{\u001b[39;00myear\u001b[38;5;132;01m}\u001b[39;00m\u001b[38;5;124m_Range\u001b[39m\u001b[38;5;132;01m{\u001b[39;00mpercent_range\u001b[38;5;132;01m}\u001b[39;00m\u001b[38;5;124m.csv\u001b[39m\u001b[38;5;124m\"\u001b[39m, index\u001b[38;5;241m=\u001b[39m\u001b[38;5;28;01mFalse\u001b[39;00m)\n\u001b[0;32m     19\u001b[0m \u001b[38;5;66;03m# 각 범위별로 파일들 병합\u001b[39;00m\n",
      "File \u001b[1;32mc:\\Users\\GFCON\\Documents\\Project\\BidPrice\\jungi2\\analysis\\analysis_utils.py:236\u001b[0m, in \u001b[0;36mpreprocess_datas\u001b[1;34m(basic_info_df, csv_dir_path, percent_range)\u001b[0m\n\u001b[0;32m    233\u001b[0m     \u001b[38;5;28;01mcontinue\u001b[39;00m\n\u001b[0;32m    235\u001b[0m \u001b[38;5;66;03m# 3. CSV 파일 읽기 및 컬럼 확인\u001b[39;00m\n\u001b[1;32m--> 236\u001b[0m df_csv \u001b[38;5;241m=\u001b[39m \u001b[43mpd\u001b[49m\u001b[38;5;241;43m.\u001b[39;49m\u001b[43mread_csv\u001b[49m\u001b[43m(\u001b[49m\u001b[43mcsv_files\u001b[49m\u001b[43m[\u001b[49m\u001b[43m공고번호\u001b[49m\u001b[43m]\u001b[49m\u001b[43m,\u001b[49m\u001b[43m \u001b[49m\u001b[43mencoding\u001b[49m\u001b[38;5;241;43m=\u001b[39;49m\u001b[38;5;124;43m'\u001b[39;49m\u001b[38;5;124;43mutf-8\u001b[39;49m\u001b[38;5;124;43m'\u001b[39;49m\u001b[43m,\u001b[49m\u001b[43m \u001b[49m\u001b[43mlow_memory\u001b[49m\u001b[38;5;241;43m=\u001b[39;49m\u001b[38;5;28;43;01mFalse\u001b[39;49;00m\u001b[43m)\u001b[49m\n\u001b[0;32m    238\u001b[0m \u001b[38;5;66;03m# 4. 사정률 컬럼 확인 및 데이터 파싱\u001b[39;00m\n\u001b[0;32m    239\u001b[0m rate_column \u001b[38;5;241m=\u001b[39m \u001b[38;5;28;01mNone\u001b[39;00m\n",
      "File \u001b[1;32m~\\AppData\\Roaming\\Python\\Python313\\site-packages\\pandas\\io\\parsers\\readers.py:1026\u001b[0m, in \u001b[0;36mread_csv\u001b[1;34m(filepath_or_buffer, sep, delimiter, header, names, index_col, usecols, dtype, engine, converters, true_values, false_values, skipinitialspace, skiprows, skipfooter, nrows, na_values, keep_default_na, na_filter, verbose, skip_blank_lines, parse_dates, infer_datetime_format, keep_date_col, date_parser, date_format, dayfirst, cache_dates, iterator, chunksize, compression, thousands, decimal, lineterminator, quotechar, quoting, doublequote, escapechar, comment, encoding, encoding_errors, dialect, on_bad_lines, delim_whitespace, low_memory, memory_map, float_precision, storage_options, dtype_backend)\u001b[0m\n\u001b[0;32m   1013\u001b[0m kwds_defaults \u001b[38;5;241m=\u001b[39m _refine_defaults_read(\n\u001b[0;32m   1014\u001b[0m     dialect,\n\u001b[0;32m   1015\u001b[0m     delimiter,\n\u001b[1;32m   (...)\u001b[0m\n\u001b[0;32m   1022\u001b[0m     dtype_backend\u001b[38;5;241m=\u001b[39mdtype_backend,\n\u001b[0;32m   1023\u001b[0m )\n\u001b[0;32m   1024\u001b[0m kwds\u001b[38;5;241m.\u001b[39mupdate(kwds_defaults)\n\u001b[1;32m-> 1026\u001b[0m \u001b[38;5;28;01mreturn\u001b[39;00m \u001b[43m_read\u001b[49m\u001b[43m(\u001b[49m\u001b[43mfilepath_or_buffer\u001b[49m\u001b[43m,\u001b[49m\u001b[43m \u001b[49m\u001b[43mkwds\u001b[49m\u001b[43m)\u001b[49m\n",
      "File \u001b[1;32m~\\AppData\\Roaming\\Python\\Python313\\site-packages\\pandas\\io\\parsers\\readers.py:620\u001b[0m, in \u001b[0;36m_read\u001b[1;34m(filepath_or_buffer, kwds)\u001b[0m\n\u001b[0;32m    617\u001b[0m _validate_names(kwds\u001b[38;5;241m.\u001b[39mget(\u001b[38;5;124m\"\u001b[39m\u001b[38;5;124mnames\u001b[39m\u001b[38;5;124m\"\u001b[39m, \u001b[38;5;28;01mNone\u001b[39;00m))\n\u001b[0;32m    619\u001b[0m \u001b[38;5;66;03m# Create the parser.\u001b[39;00m\n\u001b[1;32m--> 620\u001b[0m parser \u001b[38;5;241m=\u001b[39m \u001b[43mTextFileReader\u001b[49m\u001b[43m(\u001b[49m\u001b[43mfilepath_or_buffer\u001b[49m\u001b[43m,\u001b[49m\u001b[43m \u001b[49m\u001b[38;5;241;43m*\u001b[39;49m\u001b[38;5;241;43m*\u001b[39;49m\u001b[43mkwds\u001b[49m\u001b[43m)\u001b[49m\n\u001b[0;32m    622\u001b[0m \u001b[38;5;28;01mif\u001b[39;00m chunksize \u001b[38;5;129;01mor\u001b[39;00m iterator:\n\u001b[0;32m    623\u001b[0m     \u001b[38;5;28;01mreturn\u001b[39;00m parser\n",
      "File \u001b[1;32m~\\AppData\\Roaming\\Python\\Python313\\site-packages\\pandas\\io\\parsers\\readers.py:1620\u001b[0m, in \u001b[0;36mTextFileReader.__init__\u001b[1;34m(self, f, engine, **kwds)\u001b[0m\n\u001b[0;32m   1617\u001b[0m     \u001b[38;5;28mself\u001b[39m\u001b[38;5;241m.\u001b[39moptions[\u001b[38;5;124m\"\u001b[39m\u001b[38;5;124mhas_index_names\u001b[39m\u001b[38;5;124m\"\u001b[39m] \u001b[38;5;241m=\u001b[39m kwds[\u001b[38;5;124m\"\u001b[39m\u001b[38;5;124mhas_index_names\u001b[39m\u001b[38;5;124m\"\u001b[39m]\n\u001b[0;32m   1619\u001b[0m \u001b[38;5;28mself\u001b[39m\u001b[38;5;241m.\u001b[39mhandles: IOHandles \u001b[38;5;241m|\u001b[39m \u001b[38;5;28;01mNone\u001b[39;00m \u001b[38;5;241m=\u001b[39m \u001b[38;5;28;01mNone\u001b[39;00m\n\u001b[1;32m-> 1620\u001b[0m \u001b[38;5;28mself\u001b[39m\u001b[38;5;241m.\u001b[39m_engine \u001b[38;5;241m=\u001b[39m \u001b[38;5;28;43mself\u001b[39;49m\u001b[38;5;241;43m.\u001b[39;49m\u001b[43m_make_engine\u001b[49m\u001b[43m(\u001b[49m\u001b[43mf\u001b[49m\u001b[43m,\u001b[49m\u001b[43m \u001b[49m\u001b[38;5;28;43mself\u001b[39;49m\u001b[38;5;241;43m.\u001b[39;49m\u001b[43mengine\u001b[49m\u001b[43m)\u001b[49m\n",
      "File \u001b[1;32m~\\AppData\\Roaming\\Python\\Python313\\site-packages\\pandas\\io\\parsers\\readers.py:1898\u001b[0m, in \u001b[0;36mTextFileReader._make_engine\u001b[1;34m(self, f, engine)\u001b[0m\n\u001b[0;32m   1895\u001b[0m     \u001b[38;5;28;01mraise\u001b[39;00m \u001b[38;5;167;01mValueError\u001b[39;00m(msg)\n\u001b[0;32m   1897\u001b[0m \u001b[38;5;28;01mtry\u001b[39;00m:\n\u001b[1;32m-> 1898\u001b[0m     \u001b[38;5;28;01mreturn\u001b[39;00m \u001b[43mmapping\u001b[49m\u001b[43m[\u001b[49m\u001b[43mengine\u001b[49m\u001b[43m]\u001b[49m\u001b[43m(\u001b[49m\u001b[43mf\u001b[49m\u001b[43m,\u001b[49m\u001b[43m \u001b[49m\u001b[38;5;241;43m*\u001b[39;49m\u001b[38;5;241;43m*\u001b[39;49m\u001b[38;5;28;43mself\u001b[39;49m\u001b[38;5;241;43m.\u001b[39;49m\u001b[43moptions\u001b[49m\u001b[43m)\u001b[49m\n\u001b[0;32m   1899\u001b[0m \u001b[38;5;28;01mexcept\u001b[39;00m \u001b[38;5;167;01mException\u001b[39;00m:\n\u001b[0;32m   1900\u001b[0m     \u001b[38;5;28;01mif\u001b[39;00m \u001b[38;5;28mself\u001b[39m\u001b[38;5;241m.\u001b[39mhandles \u001b[38;5;129;01mis\u001b[39;00m \u001b[38;5;129;01mnot\u001b[39;00m \u001b[38;5;28;01mNone\u001b[39;00m:\n",
      "File \u001b[1;32m~\\AppData\\Roaming\\Python\\Python313\\site-packages\\pandas\\io\\parsers\\c_parser_wrapper.py:93\u001b[0m, in \u001b[0;36mCParserWrapper.__init__\u001b[1;34m(self, src, **kwds)\u001b[0m\n\u001b[0;32m     90\u001b[0m \u001b[38;5;28;01mif\u001b[39;00m kwds[\u001b[38;5;124m\"\u001b[39m\u001b[38;5;124mdtype_backend\u001b[39m\u001b[38;5;124m\"\u001b[39m] \u001b[38;5;241m==\u001b[39m \u001b[38;5;124m\"\u001b[39m\u001b[38;5;124mpyarrow\u001b[39m\u001b[38;5;124m\"\u001b[39m:\n\u001b[0;32m     91\u001b[0m     \u001b[38;5;66;03m# Fail here loudly instead of in cython after reading\u001b[39;00m\n\u001b[0;32m     92\u001b[0m     import_optional_dependency(\u001b[38;5;124m\"\u001b[39m\u001b[38;5;124mpyarrow\u001b[39m\u001b[38;5;124m\"\u001b[39m)\n\u001b[1;32m---> 93\u001b[0m \u001b[38;5;28mself\u001b[39m\u001b[38;5;241m.\u001b[39m_reader \u001b[38;5;241m=\u001b[39m \u001b[43mparsers\u001b[49m\u001b[38;5;241;43m.\u001b[39;49m\u001b[43mTextReader\u001b[49m\u001b[43m(\u001b[49m\u001b[43msrc\u001b[49m\u001b[43m,\u001b[49m\u001b[43m \u001b[49m\u001b[38;5;241;43m*\u001b[39;49m\u001b[38;5;241;43m*\u001b[39;49m\u001b[43mkwds\u001b[49m\u001b[43m)\u001b[49m\n\u001b[0;32m     95\u001b[0m \u001b[38;5;28mself\u001b[39m\u001b[38;5;241m.\u001b[39munnamed_cols \u001b[38;5;241m=\u001b[39m \u001b[38;5;28mself\u001b[39m\u001b[38;5;241m.\u001b[39m_reader\u001b[38;5;241m.\u001b[39munnamed_cols\n\u001b[0;32m     97\u001b[0m \u001b[38;5;66;03m# error: Cannot determine type of 'names'\u001b[39;00m\n",
      "File \u001b[1;32mparsers.pyx:581\u001b[0m, in \u001b[0;36mpandas._libs.parsers.TextReader.__cinit__\u001b[1;34m()\u001b[0m\n",
      "\u001b[1;31mEmptyDataError\u001b[0m: No columns to parse from file"
     ]
    }
   ],
   "source": [
    "process_and_merge(years = range(2014, 2025), ranges = [2, 3])"
   ]
  },
  {
   "cell_type": "code",
   "execution_count": 47,
   "metadata": {},
   "outputs": [
    {
     "name": "stdout",
     "output_type": "stream",
     "text": [
      "Combined file saved: combined_Range3.csv\n"
     ]
    }
   ],
   "source": [
    "# 각 범위별로 파일들 병합\n",
    "percent_range = 3\n",
    "pattern = f\"./*_Range{percent_range}.csv\"\n",
    "all_files = glob.glob(pattern)\n",
    "if all_files:\n",
    "    combined_df = pd.concat([pd.read_csv(f) for f in all_files], ignore_index=True)\n",
    "    combined_df.to_csv(f\"./combined_Range{percent_range}.csv\", index=False)\n",
    "    print(f\"Combined file saved: combined_Range{percent_range}.csv\")"
   ]
  }
 ],
 "metadata": {
  "kernelspec": {
   "display_name": "Python 3",
   "language": "python",
   "name": "python3"
  },
  "language_info": {
   "codemirror_mode": {
    "name": "ipython",
    "version": 3
   },
   "file_extension": ".py",
   "mimetype": "text/x-python",
   "name": "python",
   "nbconvert_exporter": "python",
   "pygments_lexer": "ipython3",
   "version": "3.13.1"
  }
 },
 "nbformat": 4,
 "nbformat_minor": 2
}
