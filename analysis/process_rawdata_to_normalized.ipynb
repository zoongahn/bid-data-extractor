{
 "cells": [
  {
   "cell_type": "markdown",
   "metadata": {},
   "source": [
    "## Settings"
   ]
  },
  {
   "cell_type": "code",
   "execution_count": 1,
   "metadata": {},
   "outputs": [
    {
     "name": "stdout",
     "output_type": "stream",
     "text": [
      "1.6.0\n"
     ]
    }
   ],
   "source": [
    "import sklearn\n",
    "print(sklearn.__version__)"
   ]
  },
  {
   "cell_type": "code",
   "execution_count": 3,
   "metadata": {},
   "outputs": [],
   "source": [
    "import os\n",
    "import pandas as pd\n",
    "import numpy as np\n",
    "import sklearn\n",
    "from sklearn.preprocessing import StandardScaler\n",
    "\n",
    "os.getcwd()\n",
    "version = 'PlusMinus3_v3'\n",
    "raw_data_path = 'basic_info_df_modified_PlusMinus3.csv'\n",
    "basic_data_path = f'{version}_basic_data.csv'\n",
    "normalized_data_path = f'{version}_normalized_data.csv'\n",
    "\n",
    "raw_data = pd.read_csv(raw_data_path)"
   ]
  },
  {
   "cell_type": "code",
   "execution_count": 4,
   "metadata": {},
   "outputs": [],
   "source": [
    "version = 'Basic_data_agg_v1'\n",
    "basic_data_path = f'{version}.csv'\n",
    "normalized_data_path = f'{version}.csv'\n",
    "\n",
    "raw_data_list = []\n",
    "for percent in [2, 3]:\n",
    "    raw_data_path = f'basic_info_df_modified_PlusMinus{percent}.csv'\n",
    "    df = pd.read_csv(raw_data_path)\n",
    "    df[\"예가범위\"] = percent\n",
    "    raw_data_list.append(df)\n",
    "    \n",
    "raw_data = pd.concat(raw_data_list, ignore_index=True)"
   ]
  },
  {
   "cell_type": "markdown",
   "metadata": {},
   "source": [
    "# 1. 필요한 함수 모음, 실행"
   ]
  },
  {
   "cell_type": "code",
   "execution_count": 28,
   "metadata": {},
   "outputs": [],
   "source": [
    "# 원하는 컬럼 순서 정의\n",
    "desired_columns = [\n",
    "    '공고번호',\n",
    "    '기초금액',\n",
    "    'A값',\n",
    "    '투찰률(%)',\n",
    "    '참여업체수',\n",
    "    '예가범위',\n",
    "    '공고구분표시',\n",
    "    '공고제목',\n",
    "    '발주처(수요기관)',\n",
    "    '지역제한'\n",
    "]\n",
    "\n",
    "# DataFrame 재구성\n",
    "def reorganize_dataframe(df, desired_columns):\n",
    "    \"\"\"\n",
    "    DataFrame의 컬럼을 원하는 순서로 재배열하고, \n",
    "    숫자 컬럼들은 그대로 유지합니다.\n",
    "    \"\"\"\n",
    "    # 12번째 이후의 컬럼들 가져오기\n",
    "    remaining_columns = [col for col in df.columns if col not in desired_columns and col.count('_') == 1 and len(col.split('_')[0]) == 3 and len(col.split('_')[1]) == 3]\n",
    "    \n",
    "    # 원하는 순서의 컬럼과 나머지 컬럼들 합치기\n",
    "    final_columns = desired_columns + remaining_columns\n",
    "    # 새로운 순서로 DataFrame 재구성\n",
    "    reorganized_df = df[final_columns]\n",
    "    return reorganized_df\n",
    "\n",
    "\n",
    "def normalize_and_transform_data(df):\n",
    "    \"\"\"\n",
    "    DataFrame의 특정 컬럼들을 변환하고 정규화합니다.\n",
    "    \n",
    "    변환:\n",
    "    - 기초금액 -> log 변환 후 정규화\n",
    "    - A값 -> 기초금액으로 나눈 후 정규화\n",
    "    - 투찰률 -> 정규화\n",
    "    - 참여업체수 -> log 변환 후 정규화\n",
    "    \"\"\"\n",
    "    import numpy as np\n",
    "    from sklearn.preprocessing import StandardScaler\n",
    "\n",
    "    # 결과 DataFrame 복사\n",
    "    result_df = df.copy()\n",
    "    \n",
    "    # 스케일러 초기화\n",
    "    scaler = StandardScaler()\n",
    "    \n",
    "    # 1. 기초금액 변환\n",
    "    result_df['log_기초금액'] = np.log1p(df['기초금액'].astype(float))\n",
    "    result_df['log_기초금액_norm'] = scaler.fit_transform(result_df[['log_기초금액']])\n",
    "    result_df['기초금액_norm'] = scaler.fit_transform(result_df[['기초금액']])\n",
    "    \n",
    "    # 2. A값/기초금액 변환\n",
    "    result_df['A값/기초금액_norm'] = df['A값'].astype(float) / (1+df['기초금액'].astype(float))\n",
    "    result_df['A값/기초금액_norm'] = scaler.fit_transform(result_df[['A값/기초금액_norm']])\n",
    "    \n",
    "    # 3. 투찰률 정규화\n",
    "    result_df['투찰률_norm'] = scaler.fit_transform(df[['투찰률(%)']])\n",
    "    \n",
    "    # 4. 참여업체수 변환\n",
    "    result_df['log_참여업체수'] = np.log1p(1+ df['참여업체수'].astype(float))\n",
    "    result_df['log_참여업체수_norm'] = scaler.fit_transform(result_df[['log_참여업체수']])\n",
    "    result_df['참여업체수_norm'] = scaler.fit_transform(result_df[['참여업체수']])\n",
    "\n",
    "    # 5. 참여업체수/기초금액 변환\n",
    "    num_colums = [col for col in result_df.columns if col.count('_') == 1 and len(col.split('_')[0]) == 3 and len(col.split('_')[1]) == 3]\n",
    "    for col in num_colums:\n",
    "       result_df[col] = result_df[col] / result_df['참여업체수']\n",
    "    \n",
    "    # 나머지 컬럼들은 이름 유지\n",
    "    # 나머지 컬럼들은 이름 유지\n",
    "    keep_columns = [\n",
    "        '공고번호',  # 식별자이므로 첫 번째로\n",
    "        '기초금액',\n",
    "        'log_기초금액',\n",
    "        'log_기초금액_norm',\n",
    "        '기초금액_norm',\n",
    "        'A값',\n",
    "        'A값/기초금액_norm',\n",
    "        '투찰률(%)',\n",
    "        '투찰률_norm',\n",
    "        '참여업체수',\n",
    "        'log_참여업체수',\n",
    "        'log_참여업체수_norm',\n",
    "        '예가범위',\n",
    "        '공고구분표시',\n",
    "        '공고제목',\n",
    "        '발주처(수요기관)',\n",
    "        '지역제한',\n",
    "    ]\n",
    "    \n",
    "    # 최종 컬럼 순서 설정\n",
    "    final_columns = keep_columns + num_colums\n",
    "    result_df = result_df[final_columns]\n",
    "\n",
    "    return result_df"
   ]
  },
  {
   "cell_type": "code",
   "execution_count": 8,
   "metadata": {},
   "outputs": [],
   "source": [
    "# DataFrame 재구성 실행\n",
    "raw_data_reorganized = reorganize_dataframe(raw_data, desired_columns)\n",
    "\n",
    "# normalize 실행\n",
    "transformed_df = normalize_and_transform_data(raw_data_reorganized)\n",
    "\n",
    "# CSV 파일로 저장\n",
    "transformed_df.to_csv(normalized_data_path, index=False)"
   ]
  },
  {
   "cell_type": "markdown",
   "metadata": {},
   "source": [
    "# Pipeline 함수 정의"
   ]
  },
  {
   "cell_type": "code",
   "execution_count": 29,
   "metadata": {},
   "outputs": [],
   "source": [
    "def process_pipeline(df, desired_columns):\n",
    "    # reorganize data\n",
    "    organized_df = reorganize_dataframe(df, desired_columns)\n",
    "    # normalize data\n",
    "    normalized_df = normalize_and_transform_data(organized_df)\n",
    "    return organized_df, normalized_df\n",
    "organized_df, normalized_df = process_pipeline(raw_data, desired_columns)\n",
    "\n",
    "# save data\n",
    "# organized_data_path = 'Basic_data_agg_v4.csv'\n",
    "# normalized_data_path = 'Modified_Basic_data_agg_v4.csv'\n",
    "# # organized_df.to_csv(basic_data_path, index=False)\n",
    "# organized_df.to_csv(organized_data_path, index=False)\n",
    "# normalized_df.to_csv(normalized_data_path, index=False)\n",
    "# shuffled_df = shuffle_specific_columns(normalized_df)\n",
    "# shuffled_df.to_csv(f'Shuffled_Basic_data_agg_v4.csv', index=False)"
   ]
  },
  {
   "cell_type": "code",
   "execution_count": 26,
   "metadata": {},
   "outputs": [
    {
     "data": {
      "text/plain": [
       "Index(['공고번호', '기초금액', 'A값', '투찰률(%)', '참여업체수', '예가범위', '공고구분표시', '공고제목',\n",
       "       '발주처(수요기관)', '지역제한', '010_001', '010_002', '010_003', '010_004',\n",
       "       '010_005', '010_006', '010_007', '010_008', '010_009', '010_010',\n",
       "       '020_001', '020_002', '020_003', '020_004', '020_005', '020_006',\n",
       "       '020_007', '020_008', '020_009', '020_010'],\n",
       "      dtype='object')"
      ]
     },
     "execution_count": 26,
     "metadata": {},
     "output_type": "execute_result"
    }
   ],
   "source": [
    "organized_df.columns[:30]"
   ]
  },
  {
   "cell_type": "code",
   "execution_count": 30,
   "metadata": {},
   "outputs": [
    {
     "name": "stdout",
     "output_type": "stream",
     "text": [
      "Index(['010_001', '010_002', '010_003', '010_004', '010_005', '010_006',\n",
      "       '010_007', '010_008', '010_009', '010_010'],\n",
      "      dtype='object')\n"
     ]
    },
    {
     "data": {
      "text/plain": [
       "Index(['010_001', '010_002', '010_003', '010_004', '010_005', '010_006',\n",
       "       '010_007', '010_008', '010_009', '010_010'],\n",
       "      dtype='object')"
      ]
     },
     "execution_count": 30,
     "metadata": {},
     "output_type": "execute_result"
    }
   ],
   "source": [
    "Basic_X = organized_df.iloc[:,:10]\n",
    "Basic_X.columns\n",
    "Basic_Y = organized_df.iloc[:,10:]\n",
    "Basic_Y.set_index(Basic_X['공고번호'], inplace=True)\n",
    "print(Basic_Y.columns[:10])\n",
    "\n",
    "Modified_X = normalized_df.iloc[:,:17]\n",
    "Modified_X.columns\n",
    "Modified_Y = normalized_df.iloc[:,17:]\n",
    "Modified_Y.set_index(Modified_X['공고번호'], inplace=True)\n",
    "Modified_Y.columns[:10]"
   ]
  },
  {
   "cell_type": "code",
   "execution_count": 33,
   "metadata": {},
   "outputs": [],
   "source": [
    "Basic_X.to_csv('Basic_X.csv', index=False)\n",
    "Basic_Y.to_csv('Basic_Y.csv', index=True)\n",
    "Modified_X.to_csv('Modified_X.csv', index=False)\n",
    "Modified_Y.to_csv('Modified_Y.csv', index=True)\n"
   ]
  },
  {
   "cell_type": "code",
   "execution_count": 10,
   "metadata": {},
   "outputs": [],
   "source": [
    "# Maked randomized\n",
    "def shuffle_specific_columns(df):\n",
    "    \"\"\"\n",
    "    지정된 컬럼들만 독립적으로 셔플합니다.\n",
    "    \n",
    "    Parameters:\n",
    "    -----------\n",
    "    df : DataFrame\n",
    "        원본 데이터프레임\n",
    "    \n",
    "    Returns:\n",
    "    --------\n",
    "    DataFrame\n",
    "        지정된 컬럼들만 셔플된 데이터프레임\n",
    "    \"\"\"\n",
    "    import numpy as np\n",
    "    \n",
    "    columns_to_shuffle = [\n",
    "        '기초금액',\n",
    "        'log_기초금액',\n",
    "        'log_기초금액_norm',\n",
    "        '기초금액_norm',\n",
    "        'A값',\n",
    "        'A값/기초금액_norm',\n",
    "        '투찰률_norm',\n",
    "        '참여업체수',\n",
    "        'log_참여업체수',\n",
    "        'log_참여업체수_norm',\n",
    "        '예가범위',\n",
    "        '공고구분표시',\n",
    "        '발주처(수요기관)',\n",
    "        '지역제한',\n",
    "        '정답사정률(%)'\n",
    "    ]\n",
    "    \n",
    "    shuffled_df = df.copy()\n",
    "    \n",
    "    # 지정된 컬럼만 셔플\n",
    "    for col in columns_to_shuffle:\n",
    "        if col in df.columns:  # 해당 컬럼이 존재하는 경우에만 셔플\n",
    "            shuffled_df[col] = np.random.permutation(df[col].values)\n",
    "\n",
    "    return shuffled_df"
   ]
  },
  {
   "cell_type": "code",
   "execution_count": null,
   "metadata": {},
   "outputs": [],
   "source": []
  }
 ],
 "metadata": {
  "kernelspec": {
   "display_name": "Python 3",
   "language": "python",
   "name": "python3"
  },
  "language_info": {
   "codemirror_mode": {
    "name": "ipython",
    "version": 3
   },
   "file_extension": ".py",
   "mimetype": "text/x-python",
   "name": "python",
   "nbconvert_exporter": "python",
   "pygments_lexer": "ipython3",
   "version": "3.13.1"
  }
 },
 "nbformat": 4,
 "nbformat_minor": 2
}
