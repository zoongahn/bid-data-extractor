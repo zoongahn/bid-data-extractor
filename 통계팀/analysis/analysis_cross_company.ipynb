{
 "cells": [
  {
   "cell_type": "code",
   "execution_count": 1,
   "metadata": {},
   "outputs": [
    {
     "data": {
      "text/plain": [
       "'c:\\\\Users\\\\cha\\\\Desktop\\\\Research\\\\챗봇 프로젝트\\\\jungiNet\\\\analysis'"
      ]
     },
     "execution_count": 1,
     "metadata": {},
     "output_type": "execute_result"
    }
   ],
   "source": [
    "import os\n",
    "os.getcwd()"
   ]
  },
  {
   "cell_type": "code",
   "execution_count": 10,
   "metadata": {},
   "outputs": [
    {
     "name": "stdout",
     "output_type": "stream",
     "text": [
      "basic_info_csv_paths: 3\n",
      "csv_paths: 472\n"
     ]
    }
   ],
   "source": [
    "import glob\n",
    "basic_info_csv_dir_path = \"../output/공고_기본_정보\"\n",
    "basic_info_csv_paths = glob.glob(os.path.join(basic_info_csv_dir_path, \"*.csv\"))\n",
    "\n",
    "csv_dir_path = \"../output/공고별_기업_투찰정보_2024\"\n",
    "csv_paths = glob.glob(os.path.join(csv_dir_path, \"*.csv\"))\n",
    "\n",
    "# print # of csv files\n",
    "print(f\"basic_info_csv_paths: {len(basic_info_csv_paths)}\")\n",
    "print(f\"csv_paths: {len(csv_paths)}\")"
   ]
  },
  {
   "cell_type": "code",
   "execution_count": 12,
   "metadata": {},
   "outputs": [],
   "source": [
    "# If you want to plot histogram:\n",
    "# plot_histogram(csv_paths, df)"
   ]
  },
  {
   "cell_type": "code",
   "execution_count": 15,
   "metadata": {},
   "outputs": [
    {
     "name": "stdout",
     "output_type": "stream",
     "text": [
      "df: 403776\n",
      "Index(['Unnamed: 0', '순위', '사업자 등록번호', '업체명', '대표', '경쟁사 분석', '투찰금액',\n",
      "       '예가대비 투찰률(%)', '기초대비 투찰률(%)', '기초대비 사정률(%)', '추첨번호', '투찰일시', '비고',\n",
      "       '가격점수', '예가대비 투찰률(%)  A', '기초대비 사정률(%)  A', '순공사대비 사정률(%)'],\n",
      "      dtype='object')\n"
     ]
    }
   ],
   "source": [
    "print(f\"df: {len(df)}\")\n",
    "print(df.columns)"
   ]
  },
  {
   "cell_type": "code",
   "execution_count": 52,
   "metadata": {},
   "outputs": [
    {
     "name": "stdout",
     "output_type": "stream",
     "text": [
      "basic_info_df: 496\n",
      "Index(['id', '공고번호', '공고제목', '발주처(수요기관)', '지역제한', '기초금액', '예정가격', '예가범위', 'A값',\n",
      "       '투찰률(%)', '참여업체수', '공고구분표시', '정답사정률(%)'],\n",
      "      dtype='object')\n"
     ]
    }
   ],
   "source": [
    "basic_info_df = pd.read_csv(basic_info_csv_paths[2])\n",
    "print(f\"basic_info_df: {len(basic_info_df)}\")\n",
    "print(basic_info_df.columns)"
   ]
  },
  {
   "cell_type": "code",
   "execution_count": 53,
   "metadata": {},
   "outputs": [
    {
     "name": "stdout",
     "output_type": "stream",
     "text": [
      "id_nums: 496\n",
      "id_nums: 472\n",
      "../output/공고별_기업_투찰정보_2024\\2024-10492.csv\n"
     ]
    }
   ],
   "source": [
    "id_nums_basic_info = pd.unique(basic_info_df['공고번호'])\n",
    "print(f\"id_nums: {len(id_nums_basic_info)}\")\n",
    "id_nums = glob.glob(os.path.join(csv_dir_path, \"*.csv\"))\n",
    "print(f\"id_nums: {len(id_nums)}\")\n",
    "print(id_nums[21])"
   ]
  },
  {
   "cell_type": "code",
   "execution_count": 124,
   "metadata": {},
   "outputs": [
    {
     "name": "stdout",
     "output_type": "stream",
     "text": [
      "총 공고 수: 496\n",
      "찾은 CSV 파일 수: 469\n",
      "찾지 못한 파일 수: 27\n",
      "\n",
      "처음 5개 찾지 못한 공고번호:\n",
      "['20241232002-00', '2404135-00', '2404134-00', '20241231791-00', '20241235152-01']\n",
      "데헷 Series([], Name: parsed_rate, dtype: float64)\n",
      "기초대비 사정률이 없는 파일 존재\n",
      "../output/공고별_기업_투찰정보_2024\\20241021669-00.csv\n",
      "Series([], Name: parsed_rate, dtype: float64)\n",
      "기초대비 사정률이 없는 파일 존재\n",
      "../output/공고별_기업_투찰정보_2024\\E012408322.csv\n",
      "데헷 Series([], Name: parsed_rate, dtype: float64)\n",
      "기초대비 사정률이 없는 파일 존재\n",
      "../output/공고별_기업_투찰정보_2024\\20240919375-00.csv\n",
      "데헷 Series([], Name: parsed_rate, dtype: float64)\n",
      "기초대비 사정률이 없는 파일 존재\n",
      "../output/공고별_기업_투찰정보_2024\\20240918062-00.csv\n",
      "데헷 Series([], Name: parsed_rate, dtype: float64)\n",
      "기초대비 사정률이 없는 파일 존재\n",
      "../output/공고별_기업_투찰정보_2024\\20240819773-00.csv\n",
      "데헷 Series([], Name: parsed_rate, dtype: float64)\n",
      "기초대비 사정률이 없는 파일 존재\n",
      "../output/공고별_기업_투찰정보_2024\\20240802605-00.csv\n",
      "데헷 Series([], Name: parsed_rate, dtype: float64)\n",
      "기초대비 사정률이 없는 파일 존재\n",
      "../output/공고별_기업_투찰정보_2024\\2401793-00.csv\n",
      "데헷 Series([], Name: parsed_rate, dtype: float64)\n",
      "기초대비 사정률이 없는 파일 존재\n",
      "../output/공고별_기업_투찰정보_2024\\20240602889-00.csv\n",
      "데헷 Series([], Name: parsed_rate, dtype: float64)\n",
      "기초대비 사정률이 없는 파일 존재\n",
      "../output/공고별_기업_투찰정보_2024\\202403443.csv\n",
      "데헷 Series([], Name: parsed_rate, dtype: float64)\n",
      "기초대비 사정률이 없는 파일 존재\n",
      "../output/공고별_기업_투찰정보_2024\\E012400482.csv\n",
      "0\n",
      "313\n",
      "\n",
      "처리 완료:\n",
      "성공적으로 처리된 파일: 0\n",
      "에러 발생 파일: 313\n",
      "최종 데이터 형태: (146, 193)\n"
     ]
    },
    {
     "data": {
      "text/plain": [
       "(146, 193)"
      ]
     },
     "execution_count": 124,
     "metadata": {},
     "output_type": "execute_result"
    }
   ],
   "source": [
    "# run preprocess_data\n",
    "basic_info_df_modified_ex2= preprocess_datas(basic_info_df, csv_dir_path, percent_range='+2% ~ -2%')\n",
    "basic_info_df_modified_ex2.shape"
   ]
  },
  {
   "cell_type": "code",
   "execution_count": null,
   "metadata": {},
   "outputs": [],
   "source": [
    "# 마지막으로 한 번 더 확인\n",
    "basic_info_df_modified_ex2.head(10).iloc[:, 15:30]"
   ]
  },
  {
   "cell_type": "code",
   "execution_count": 127,
   "metadata": {},
   "outputs": [],
   "source": [
    "# pd.to_csv(basic_info_df_modified, \"./basic_info_df_modified.csv\")\n",
    "# to csv\n",
    "basic_info_df_modified_ex2.to_csv(\"./basic_info_df_modified_PlusMinus2.csv\", index=False)\n",
    "# basic_info_df_modified_ex.to_csv(\"./basic_info_df_modified_PlusMinus3.csv\", index=False)"
   ]
  }
 ],
 "metadata": {
  "kernelspec": {
   "display_name": "Python 3",
   "language": "python",
   "name": "python3"
  },
  "language_info": {
   "codemirror_mode": {
    "name": "ipython",
    "version": 3
   },
   "file_extension": ".py",
   "mimetype": "text/x-python",
   "name": "python",
   "nbconvert_exporter": "python",
   "pygments_lexer": "ipython3",
   "version": "3.12.4"
  }
 },
 "nbformat": 4,
 "nbformat_minor": 2
}
