{
 "cells": [
  {
   "cell_type": "markdown",
   "metadata": {},
   "source": [
    "## Setings"
   ]
  },
  {
   "cell_type": "code",
   "execution_count": 19,
   "metadata": {},
   "outputs": [],
   "source": [
    "import os\n",
    "import pandas as pd\n",
    "import numpy as np\n",
    "import sklearn\n",
    "from sklearn.preprocessing import StandardScaler\n",
    "\n",
    "os.getcwd()\n",
    "version = 'PlusMinus2_v2'\n",
    "raw_data_path = 'basic_info_df_modified_PlusMinus2.csv'\n",
    "basic_data_path = f'{version}_basic_data.csv'\n",
    "normalized_data_path = f'{version}_normalized_data.csv'\n",
    "\n",
    "raw_data = pd.read_csv(raw_data_path)"
   ]
  },
  {
   "cell_type": "markdown",
   "metadata": {},
   "source": [
    "# 1. 필요한 함수 모음, 실행"
   ]
  },
  {
   "cell_type": "code",
   "execution_count": 20,
   "metadata": {},
   "outputs": [
    {
     "name": "stdout",
     "output_type": "stream",
     "text": [
      "처음 13개 컬럼:\n",
      "Index(['공고번호', '기초금액', 'A값', '투찰률(%)', '참여업체수', '예가범위', '공고구분표시', '공고제목',\n",
      "       '발주처(수요기관)', '지역제한', '정답사정률(%)', '010_001', '010_002'],\n",
      "      dtype='object')\n"
     ]
    }
   ],
   "source": [
    "# 원하는 컬럼 순서 정의\n",
    "desired_columns = [\n",
    "    '공고번호',\n",
    "    '기초금액',\n",
    "    'A값',\n",
    "    '투찰률(%)',\n",
    "    '참여업체수',\n",
    "    '예가범위',\n",
    "    '공고구분표시',\n",
    "    '공고제목',\n",
    "    '발주처(수요기관)',\n",
    "    '지역제한',\n",
    "    '정답사정률(%)'\n",
    "]\n",
    "\n",
    "# DataFrame 재구성\n",
    "def reorganize_dataframe(df, desired_columns):\n",
    "    \"\"\"\n",
    "    DataFrame의 컬럼을 원하는 순서로 재배열하고, \n",
    "    숫자 컬럼들은 그대로 유지합니다.\n",
    "    \"\"\"\n",
    "    # 12번째 이후의 컬럼들 가져오기\n",
    "    remaining_columns = [col for col in df.columns if col not in desired_columns and col.count('_') == 1 and len(col.split('_')[0]) == 3 and len(col.split('_')[1]) == 3]\n",
    "    \n",
    "    # 원하는 순서의 컬럼과 나머지 컬럼들 합치기\n",
    "    final_columns = desired_columns + remaining_columns\n",
    "    # 새로운 순서로 DataFrame 재구성\n",
    "    reorganized_df = df[final_columns]\n",
    "    return reorganized_df\n",
    "\n",
    "\n",
    "def normalize_and_transform_data(df):\n",
    "    \"\"\"\n",
    "    DataFrame의 특정 컬럼들을 변환하고 정규화합니다.\n",
    "    \n",
    "    변환:\n",
    "    - 기초금액 -> log 변환 후 정규화\n",
    "    - A값 -> 기초금액으로 나눈 후 정규화\n",
    "    - 투찰률 -> 정규화\n",
    "    - 참여업체수 -> log 변환 후 정규화\n",
    "    \"\"\"\n",
    "    import numpy as np\n",
    "    from sklearn.preprocessing import StandardScaler\n",
    "\n",
    "    # 결과 DataFrame 복사\n",
    "    result_df = df.copy()\n",
    "    \n",
    "    # 스케일러 초기화\n",
    "    scaler = StandardScaler()\n",
    "    \n",
    "    # 1. 기초금액 변환\n",
    "    result_df['log_기초금액_norm'] = np.log1p(df['기초금액'].astype(float))\n",
    "    result_df['log_기초금액_norm'] = scaler.fit_transform(result_df[['log_기초금액_norm']])\n",
    "    \n",
    "    # 2. A값/기초금액 변환\n",
    "    result_df['A값/기초금액_norm'] = df['A값'].astype(float) / (1+df['기초금액'].astype(float))\n",
    "    result_df['A값/기초금액_norm'] = scaler.fit_transform(result_df[['A값/기초금액_norm']])\n",
    "    \n",
    "    # 3. 투찰률 정규화\n",
    "    result_df['투찰률_norm'] = scaler.fit_transform(df[['투찰률(%)']])\n",
    "    \n",
    "    # 4. 참여업체수 변환\n",
    "    result_df['log_참여업체수_norm'] = np.log1p(1+ df['참여업체수'].astype(float))\n",
    "    result_df['log_참여업체수_norm'] = scaler.fit_transform(result_df[['log_참여업체수_norm']])\n",
    "    \n",
    "    # 5. 참여업체수/기초금액 변환\n",
    "    num_colums = [col for col in columns if col.count('_') == 1 and len(col.split('_')[0]) == 3 and len(col.split('_')[1]) == 3]\n",
    "    for col in num_colums:\n",
    "        result_df[col] = result_df[col] / result_df['참여업체수']\n",
    "    \n",
    "    # 나머지 컬럼들은 이름 유지\n",
    "    # 나머지 컬럼들은 이름 유지\n",
    "    keep_columns = [\n",
    "        '공고번호',  # 식별자이므로 첫 번째로\n",
    "        'log_기초금액_norm',\n",
    "        'A값/기초금액_norm',\n",
    "        '투찰률_norm',\n",
    "        'log_참여업체수_norm',\n",
    "        '예가범위',\n",
    "        '공고구분표시',\n",
    "        '공고제목',\n",
    "        '발주처(수요기관)',\n",
    "        '지역제한',\n",
    "        '정답사정률(%)'\n",
    "    ]\n",
    "    \n",
    "    # 최종 컬럼 순서 설정\n",
    "    final_columns = keep_columns + num_colums\n",
    "    result_df = result_df[final_columns]\n",
    "\n",
    "    return result_df"
   ]
  },
  {
   "cell_type": "code",
   "execution_count": null,
   "metadata": {},
   "outputs": [],
   "source": [
    "# DataFrame 재구성 실행\n",
    "raw_data_reorganized = reorganize_dataframe(raw_data)\n",
    "\n",
    "# normalize 실행\n",
    "transformed_df = normalize_and_transform_data(raw_data_reorganized)\n",
    "\n",
    "# CSV 파일로 저장\n",
    "transformed_df.to_csv(normalized_data_path, index=False)"
   ]
  },
  {
   "cell_type": "markdown",
   "metadata": {},
   "source": [
    "# Pipeline 함수 정의"
   ]
  },
  {
   "cell_type": "code",
   "execution_count": null,
   "metadata": {},
   "outputs": [],
   "source": [
    "def process_pipeline(df, desired_columns):\n",
    "    # reorganize data\n",
    "    organized_df = reorganize_dataframe(df, desired_columns)\n",
    "    # normalize data\n",
    "    normalized_df = normalize_and_transform_data(organized_df)\n",
    "    return organized_df, normalized_df\n",
    "organized_df, normalized_df = process_pipeline(raw_data, desired_columns)\n",
    "\n",
    "# save data\n",
    "organized_df.to_csv(basic_data_path, index=False)\n",
    "normalized_df.to_csv(normalized_data_path, index=False)"
   ]
  }
 ],
 "metadata": {
  "kernelspec": {
   "display_name": "Python 3",
   "language": "python",
   "name": "python3"
  },
  "language_info": {
   "codemirror_mode": {
    "name": "ipython",
    "version": 3
   },
   "file_extension": ".py",
   "mimetype": "text/x-python",
   "name": "python",
   "nbconvert_exporter": "python",
   "pygments_lexer": "ipython3",
   "version": "3.12.4"
  }
 },
 "nbformat": 4,
 "nbformat_minor": 2
}
